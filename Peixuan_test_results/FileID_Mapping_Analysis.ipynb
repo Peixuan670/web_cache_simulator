{
 "cells": [
  {
   "cell_type": "code",
   "execution_count": 1,
   "metadata": {
    "collapsed": true
   },
   "outputs": [],
   "source": [
    "%matplotlib inline\n",
    "\n",
    "import numpy as np\n",
    "import pandas as pd\n",
    "from collections import OrderedDict\n",
    "import matplotlib.pyplot as plt\n",
    "import math\n",
    "from IPython.display import display, HTML\n",
    "from scipy.interpolate import interp1d"
   ]
  },
  {
   "cell_type": "code",
   "execution_count": 2,
   "metadata": {},
   "outputs": [],
   "source": [
    "# Read fID to vnode & fID to rnode mapping\n",
    "dir = \"/Users/peixuangao/Documents/NYU/Project/CDN/Peixuan_cache_simulator/web_cache_simulator/Peixuan_test_results/\"\n",
    "fID_to_vnode = pd.read_csv(dir+\"fID_vnode_01.txt\",sep = ' ',encoding = 'utf-8',header=None)\n",
    "col = ['fID','[...]','vnode']\n",
    "fID_to_vnode.columns = col\n",
    "\n",
    "fID_to_rnode = pd.read_csv(dir+\"fID_rnode_01.txt\",sep = ' ',encoding = 'utf-8',header=None)\n",
    "col = ['fID','[...]','rnode']\n",
    "fID_to_rnode.columns = col"
   ]
  },
  {
   "cell_type": "code",
   "execution_count": 3,
   "metadata": {},
   "outputs": [],
   "source": [
    "# Sort mapping by node\n",
    "fID_to_vnode.sort_values(\"vnode\",inplace=True)\n",
    "fID_to_rnode.sort_values(\"rnode\",inplace=True)"
   ]
  },
  {
   "cell_type": "code",
   "execution_count": 4,
   "metadata": {},
   "outputs": [],
   "source": [
    "fID_to_rnode.reset_index(drop=True, inplace=True)\n",
    "rnode_grouped = fID_to_rnode.groupby(fID_to_rnode[ 'rnode' ])\n",
    "rnode_list = list(rnode_grouped)"
   ]
  },
  {
   "cell_type": "code",
   "execution_count": 5,
   "metadata": {},
   "outputs": [],
   "source": [
    "# fID rnode 0 to rnode 3: (Build up file ID map)\n",
    "rnode0to3 = {}\n",
    "index = 0\n",
    "rnode0_offset = 0\n",
    "rnode2_offset = rnode_list[0][1][\"fID\"].shape[0] + rnode_list[1][1][\"fID\"].shape[0]\n",
    "while (index < rnode_list[0][1][\"fID\"].shape[0]): \n",
    "    rnode0to3[rnode_list[0][1][\"fID\"][index+rnode0_offset]] = rnode_list[2][1][\"fID\"][index+rnode2_offset]\n",
    "    index = index+1"
   ]
  },
  {
   "cell_type": "code",
   "execution_count": 7,
   "metadata": {},
   "outputs": [],
   "source": [
    "# Write modified trace: replaced_test_wiki_10000.txt\n",
    "ori_trace_f = open(\"test_wiki_10000.txt\")\n",
    "mod_trace_f = open(\"replaced_test_wiki_10000.txt\",'w')\n",
    "line = ori_trace_f.readline()\n",
    "while line: \n",
    "    split_line = line.split()\n",
    "    fID = int(split_line[1])\n",
    "    if fID in rnode0to3:\n",
    "        mod_trace_f.write(split_line[0] + \" \" + str(rnode0to3[fID]) + \" \" + split_line[2]+\"\\n\")\n",
    "    else:\n",
    "        mod_trace_f.write(line)\n",
    "    line = ori_trace_f.readline() \n",
    " \n",
    "ori_trace_f.close()\n",
    "mod_trace_f.close()"
   ]
  },
  {
   "cell_type": "code",
   "execution_count": null,
   "metadata": {
    "collapsed": true
   },
   "outputs": [],
   "source": []
  }
 ],
 "metadata": {
  "kernelspec": {
   "display_name": "Python 3",
   "language": "python",
   "name": "python3"
  },
  "language_info": {
   "codemirror_mode": {
    "name": "ipython",
    "version": 3
   },
   "file_extension": ".py",
   "mimetype": "text/x-python",
   "name": "python",
   "nbconvert_exporter": "python",
   "pygments_lexer": "ipython3",
   "version": "3.6.8"
  }
 },
 "nbformat": 4,
 "nbformat_minor": 2
}
